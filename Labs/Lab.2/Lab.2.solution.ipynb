{
 "cells": [
  {
   "cell_type": "markdown",
   "metadata": {},
   "source": [
    "## Lab 2- Tic Tac Toe\n",
    "\n",
    "In this lab your will build a n x n Tic Tac Toe game. As you do the exercises, make sure your solutions work for any size Tic Tac Toe game. "
   ]
  },
  {
   "cell_type": "markdown",
   "metadata": {},
   "source": [
    "*Exercise 1:* Write a function that creates an n by n matrix (of list of lists) which will represent the state of a Tie Tac Toe game. Let 0, 1, and 2 represent empty, \"X\", and \"O\", respectively.\n"
   ]
  },
  {
   "cell_type": "code",
   "execution_count": 1262,
   "metadata": {},
   "outputs": [],
   "source": [
    "def make_empty_board(size):\n",
    "    board = []\n",
    "    for i in range(0, size):\n",
    "        board.append([])\n",
    "        for j in range(0, size): \n",
    "            board[i].append(0)\n",
    "    return board\n",
    "\n",
    "#   \" \":0 X:1 O:2 "
   ]
  },
  {
   "cell_type": "code",
   "execution_count": 1264,
   "metadata": {},
   "outputs": [
    {
     "name": "stdout",
     "output_type": "stream",
     "text": [
      "[0, 0, 0]\n",
      "[0, 0, 0]\n",
      "[0, 0, 0]\n",
      "\n",
      "[0, 0, 0, 0, 0]\n",
      "[0, 0, 0, 0, 0]\n",
      "[0, 0, 0, 0, 0]\n",
      "[0, 0, 0, 0, 0]\n",
      "[0, 0, 0, 0, 0]\n"
     ]
    }
   ],
   "source": [
    "MEB_test1 = make_empty_board(3)\n",
    "for i in range(0,3): print(MEB_test1[i])\n",
    "\n",
    "print()\n",
    "\n",
    "MEB_test2 = make_empty_board(5)\n",
    "for i in range(0,5): print(MEB_test2[i])"
   ]
  },
  {
   "cell_type": "markdown",
   "metadata": {},
   "source": [
    "*Exercise 2:* Write a function that takes 2 integers `n` and `m` as input and draws a `n` by `m` game board. For example the following is a 3x3 board:\n",
    "```\n",
    "   --- --- --- \n",
    "  |   |   |   | \n",
    "   --- --- ---  \n",
    "  |   |   |   | \n",
    "   --- --- ---  \n",
    "  |   |   |   | \n",
    "   --- --- --- \n",
    "   ```"
   ]
  },
  {
   "cell_type": "code",
   "execution_count": 1219,
   "metadata": {},
   "outputs": [],
   "source": [
    "def draw_empty_board(n, m):\n",
    "    print(\" \", end = \"\")\n",
    "    for col in range(0, m): print(\"--- \", end = \"\")\n",
    "\n",
    "    for row in range(0, n):\n",
    "        print(\"\\n|\", end = \"\")\n",
    "        for col in range(0, m):\n",
    "            print(\"   |\", end = \"\")\n",
    "\n",
    "        print(\"\\n \", end = \"\")\n",
    "        for col in range(0, m):\n",
    "            print(\"--- \", end = \"\")"
   ]
  },
  {
   "cell_type": "code",
   "execution_count": 1220,
   "metadata": {},
   "outputs": [
    {
     "name": "stdout",
     "output_type": "stream",
     "text": [
      " --- --- \n",
      "|   |   |\n",
      " --- --- \n",
      "|   |   |\n",
      " --- --- \n",
      "|   |   |\n",
      " --- --- \n",
      "\n",
      " --- --- --- --- --- \n",
      "|   |   |   |   |   |\n",
      " --- --- --- --- --- \n",
      "|   |   |   |   |   |\n",
      " --- --- --- --- --- \n",
      "|   |   |   |   |   |\n",
      " --- --- --- --- --- \n",
      "|   |   |   |   |   |\n",
      " --- --- --- --- --- \n",
      "|   |   |   |   |   |\n",
      " --- --- --- --- --- "
     ]
    }
   ],
   "source": [
    "draw_empty_board(3, 2) # rows, cols\n",
    "\n",
    "print(\"\\n\")\n",
    "\n",
    "draw_empty_board(5, 5)"
   ]
  },
  {
   "cell_type": "markdown",
   "metadata": {},
   "source": [
    "*Exercise 3:* Modify exercise 2, so that it takes a matrix of the form from exercise 1 and draws a tic-tac-tie board with \"X\"s and \"O\"s.  "
   ]
  },
  {
   "cell_type": "code",
   "execution_count": 1222,
   "metadata": {},
   "outputs": [],
   "source": [
    "def draw_filled_board(matrix):\n",
    "    print(\" \", end = \"\")\n",
    "    for i in matrix[0]: print(\"--- \", end = \"\")\n",
    "\n",
    "    for row in matrix:\n",
    "        print(\"\\n|\", end = \"\")\n",
    "        for index in row:\n",
    "            if index == 1: value = \"X\"\n",
    "            elif index == 2: value = \"O\"\n",
    "            else: value = \" \"\n",
    "            print(\" \", value, \" |\", sep = \"\" , end = \"\")\n",
    "\n",
    "        print(\"\\n \", end = \"\")\n",
    "        for i in matrix[0]: print(\"--- \", end = \"\")\n"
   ]
  },
  {
   "cell_type": "code",
   "execution_count": 1223,
   "metadata": {},
   "outputs": [
    {
     "name": "stdout",
     "output_type": "stream",
     "text": [
      " --- --- --- --- --- \n",
      "|   |   |   |   |   |\n",
      " --- --- --- --- --- \n",
      "|   |   |   |   |   |\n",
      " --- --- --- --- --- \n",
      "|   |   |   |   |   |\n",
      " --- --- --- --- --- \n",
      "|   |   |   |   |   |\n",
      " --- --- --- --- --- \n",
      "|   |   |   |   |   |\n",
      " --- --- --- --- --- "
     ]
    }
   ],
   "source": [
    "draw_filled_board(MEB_test2)"
   ]
  },
  {
   "cell_type": "markdown",
   "metadata": {},
   "source": [
    "*Exercise 4:* Write a function that takes a `n` by `n` matrix representing a tic-tac-toe game, and returns -1, 0, 1, or 2 indicating the game is incomplete, the game is a draw, player 1 has won, or player 2 has one, respectively. Here are some example inputs you can use to test your code:"
   ]
  },
  {
   "cell_type": "code",
   "execution_count": 1300,
   "metadata": {},
   "outputs": [],
   "source": [
    "def check_board(matrix):\n",
    "    # rows\n",
    "    for row in matrix:\n",
    "        rowSum = 0\n",
    "        for i in row: rowSum += i\n",
    "        if (rowSum / len(row) in [1,2]) & (not 0 in row):\n",
    "            return row[0]\n",
    "\n",
    "    # cols\n",
    "    for col in range(0, len(matrix)):\n",
    "        colsList = []\n",
    "        for row in range(0, len(matrix)):\n",
    "            # print(row, col)##############################################################################\n",
    "            colsList.append(matrix[row][col])\n",
    "        colSum = 0\n",
    "        for i in colsList: colSum += i\n",
    "        if (colSum / len(colsList) in [1,2]) & (not 0 in colsList):\n",
    "            return colsList[0]\n",
    "\n",
    "    # diag 1\n",
    "    diag_1_list = []\n",
    "    for diag_index in range(0, len(matrix)):\n",
    "        diag_1_list.append(matrix[diag_index][diag_index])\n",
    "    diagSum = 0\n",
    "    for i in diag_1_list: diagSum += i\n",
    "    if (diagSum / len(diag_1_list) in [1,2]) & (not 0 in diag_1_list):\n",
    "        return diag_1_list[0]\n",
    "\n",
    "    # diag 2\n",
    "    diag_2_list = []\n",
    "    rowIndex = 0\n",
    "    colIndex = -1\n",
    "    for diag_index in range(0, len(matrix)):\n",
    "        diag_2_list.append(matrix[rowIndex][colIndex])\n",
    "        rowIndex += 1\n",
    "        colIndex -= 1\n",
    "    diagSum = 0\n",
    "    for i in diag_2_list: diagSum += i\n",
    "    if (diagSum / len(diag_2_list) in [1,2]) & (not 0 in diag_2_list):\n",
    "        # print(diag_2_list)#############################################################################\n",
    "        return diag_2_list[0]\n",
    "\n",
    "    # game is incomplete\n",
    "    for i in matrix: \n",
    "        if 0 in i: return -1\n",
    "\n",
    "    print()\n",
    "\n",
    "    return 0 # draw"
   ]
  },
  {
   "cell_type": "code",
   "execution_count": 1302,
   "metadata": {},
   "outputs": [
    {
     "name": "stdout",
     "output_type": "stream",
     "text": [
      "1\n",
      "-1\n",
      "2\n"
     ]
    }
   ],
   "source": [
    "testboard1 = [[2, 1, 2, 1, 1],\n",
    "              [2, 2, 1, 1, 1],\n",
    "              [2, 2, 1, 1, 2],\n",
    "              [1, 1, 2, 2, 2],\n",
    "              [1, 2, 1, 1, 2]]\n",
    "print(check_board(testboard1)) # 1 wins the second diagonal\n",
    "\n",
    "testboard2 = [[1,2,0],\n",
    "              [0,0,1]]\n",
    "print(check_board(testboard2)) # incomplete game\n",
    "\n",
    "testboard3 = [[1,2,2],\n",
    "              [1,1,2],\n",
    "              [2,1,2]]\n",
    "print(check_board(testboard3)) # 2 wins the last column"
   ]
  },
  {
   "cell_type": "markdown",
   "metadata": {},
   "source": [
    "*Exercise 5:* Write a function that takes a game board, player number, and `(x,y)` coordinates and places \"X\" or \"O\" in the correct location of the game board. Make sure that you only allow filling previously empty locations. Return `True` or `False` to indicate successful placement of \"X\" or \"O\"."
   ]
  },
  {
   "cell_type": "code",
   "execution_count": 1251,
   "metadata": {},
   "outputs": [],
   "source": [
    "def place_move(board, player, coordinates):\n",
    "    if board[coordinates[0]][coordinates[1]] == 0:\n",
    "        board[coordinates[0]][coordinates[1]] = player\n",
    "        return True\n",
    "    else: return False"
   ]
  },
  {
   "cell_type": "code",
   "execution_count": 1253,
   "metadata": {},
   "outputs": [],
   "source": [
    "testboard4 = [[0,0,0,0],\n",
    "              [0,0,0,0],\n",
    "              [0,0,0,0]]"
   ]
  },
  {
   "cell_type": "code",
   "execution_count": 1255,
   "metadata": {},
   "outputs": [
    {
     "name": "stdout",
     "output_type": "stream",
     "text": [
      "[0, 0, 0, 0]\n",
      "[0, 0, 0, 0]\n",
      "[0, 0, 0, 0]\n",
      "True\n",
      "[0, 0, 1, 0]\n",
      "[0, 0, 0, 0]\n",
      "[0, 0, 0, 0]\n"
     ]
    }
   ],
   "source": [
    "for i in testboard4: print(i)\n",
    "print(place_move(testboard4, 1, [0,2]))\n",
    "for i in testboard4: print(i)"
   ]
  },
  {
   "cell_type": "markdown",
   "metadata": {},
   "source": [
    "*Exercise 6:* Modify Exercise 4 to show column and row labels so that players can specify location using \"A2\" or \"C1\"."
   ]
  },
  {
   "cell_type": "code",
   "execution_count": 1176,
   "metadata": {},
   "outputs": [],
   "source": [
    "def draw_filled_board_with_labels(matrix):\n",
    "\n",
    "    rowCode = {\n",
    "        0: \"A\",\n",
    "        1: \"B\",\n",
    "        2: \"C\",\n",
    "        3: \"D\",\n",
    "        4: \"E\",\n",
    "        5: \"F\",\n",
    "        6: \"G\",\n",
    "        7: \"H\",\n",
    "        8: \"I\",\n",
    "        9: \"J\",\n",
    "        10: \"K\",\n",
    "        11: \"L\",\n",
    "        12: \"M\",\n",
    "        13: \"N\",\n",
    "        14: \"O\",\n",
    "        15: \"P\",\n",
    "        16: \"Q\",\n",
    "        17: \"R\",\n",
    "        18: \"S\",\n",
    "        19: \"T\",\n",
    "        20: \"U\",\n",
    "        21: \"V\",\n",
    "        22: \"W\",\n",
    "        23: \"X\",\n",
    "        24: \"Y\",\n",
    "        25: \"Z\"\n",
    "    }\n",
    "\n",
    "    \n",
    "    print(\"     \", end = \"\")\n",
    "    for i in range(1, len(matrix[0])+1): print(i, \"  \", end = \"\")\n",
    "    print(\"\\n    \", end = \"\")\n",
    "    for i in matrix[0]: print(\"--- \", end = \"\")\n",
    "\n",
    "    rowIndex = 0\n",
    "    for row in matrix:\n",
    "        rowLetter = rowCode.get(rowIndex)\n",
    "        print(\"\\n\", rowLetter, \"|\", end = \"\")\n",
    "        for index in row:\n",
    "            if index == 1: value = \"X\"\n",
    "            elif index == 2: value = \"O\"\n",
    "            else: value = \" \"\n",
    "            print(\" \", value, \" |\", sep = \"\" , end = \"\")\n",
    "\n",
    "        print(\"\\n    \", end = \"\")\n",
    "        rowIndex += 1\n",
    "        for i in matrix[0]: print(\"--- \", end = \"\")"
   ]
  },
  {
   "cell_type": "code",
   "execution_count": 1178,
   "metadata": {},
   "outputs": [
    {
     "name": "stdout",
     "output_type": "stream",
     "text": [
      "     1   2   3   4   \n",
      "    --- --- --- --- \n",
      " A | X | X | X | X |\n",
      "    --- --- --- --- \n",
      " B | X | X | X |   |\n",
      "    --- --- --- --- \n",
      " C |   | X | X | X |\n",
      "    --- --- --- --- "
     ]
    }
   ],
   "source": [
    "draw_filled_board_with_labels(testboard4)"
   ]
  },
  {
   "cell_type": "markdown",
   "metadata": {},
   "source": [
    "*Exercise 7:* Write a function that takes a board, player number, and location specified as in exercise 6 and then calls exercise 5 to correctly modify the board.  "
   ]
  },
  {
   "cell_type": "code",
   "execution_count": 608,
   "metadata": {},
   "outputs": [],
   "source": [
    "def decode_move(board, player, coordinates):\n",
    "    letterCode = {\n",
    "        \"A\": 0, \n",
    "        \"B\": 1, \n",
    "        \"C\": 2, \n",
    "        \"D\": 3, \n",
    "        \"E\": 4, \n",
    "        \"F\": 5, \n",
    "        \"G\": 6, \n",
    "        \"H\": 7, \n",
    "        \"I\": 8, \n",
    "        \"J\": 9, \n",
    "        \"K\": 10, \n",
    "        \"L\": 11, \n",
    "        \"M\": 12, \n",
    "        \"N\": 13, \n",
    "        \"O\": 14, \n",
    "        \"P\": 15, \n",
    "        \"Q\": 16, \n",
    "        \"R\": 17, \n",
    "        \"S\": 18, \n",
    "        \"T\": 19, \n",
    "        \"U\": 20, \n",
    "        \"V\": 21, \n",
    "        \"W\": 22, \n",
    "        \"X\": 23, \n",
    "        \"Y\": 24, \n",
    "        \"Z\": 25    }\n",
    "    numberCode = {\n",
    "        1: 0, \n",
    "        2: 1, \n",
    "        3: 2, \n",
    "        4: 3, \n",
    "        5: 4, \n",
    "        6: 5, \n",
    "        7: 6, \n",
    "        8: 7, \n",
    "        9: 8, \n",
    "        10: 9, \n",
    "        11: 10, \n",
    "        12: 11, \n",
    "        13: 12, \n",
    "        14: 13, \n",
    "        15: 14, \n",
    "        16: 15, \n",
    "        17: 16, \n",
    "        18: 17, \n",
    "        19: 18, \n",
    "        20: 19, \n",
    "        21: 20, \n",
    "        22: 21, \n",
    "        23: 22, \n",
    "        24: 23, \n",
    "        25: 24, \n",
    "        26: 25\n",
    "    }\n",
    "\n",
    "    row = letterCode.get(coordinates[0].upper())\n",
    "    col = numberCode.get(int(coordinates[1:]))\n",
    "    \n",
    "    return place_move(board, player, [row, col])"
   ]
  },
  {
   "cell_type": "code",
   "execution_count": 638,
   "metadata": {},
   "outputs": [
    {
     "name": "stdout",
     "output_type": "stream",
     "text": [
      "     1   2   3   4   \n",
      "    --- --- --- --- \n",
      " A | 1 | 1 | 1 | 1 |\n",
      "    \n",
      " B | 1 | 1 | 1 | 0 |\n",
      "    \n",
      " C | 0 | 0 | 0 | 1 |\n",
      "    --- --- --- --- "
     ]
    }
   ],
   "source": [
    "decode_move(testboard4, 1, \"B2\")\n",
    "draw_filled_board_with_labels(testboard4)"
   ]
  },
  {
   "cell_type": "markdown",
   "metadata": {},
   "source": [
    "*Exercise 8:* Write a function is called with a board and player number, takes input from the player using python's `input`, and modifies the board using your function from exercise 7. Note that you should keep asking for input until you have gotten a valid input that results in a valid move."
   ]
  },
  {
   "cell_type": "code",
   "execution_count": 642,
   "metadata": {},
   "outputs": [],
   "source": [
    "def promptPlayer(board, player):\n",
    "    playerMove = True\n",
    "    while playerMove:\n",
    "        coordinates = input()\n",
    "\n",
    "        if decode_move(board,player,coordinates): playerMove = False\n",
    "        else: print(\"Move invalid. Please Try again.\")"
   ]
  },
  {
   "cell_type": "code",
   "execution_count": 644,
   "metadata": {},
   "outputs": [
    {
     "name": "stdin",
     "output_type": "stream",
     "text": [
      " a1\n"
     ]
    },
    {
     "name": "stdout",
     "output_type": "stream",
     "text": [
      "Move invalid. Please Try again.\n"
     ]
    },
    {
     "name": "stdin",
     "output_type": "stream",
     "text": [
      " a2\n"
     ]
    },
    {
     "name": "stdout",
     "output_type": "stream",
     "text": [
      "Move invalid. Please Try again.\n"
     ]
    },
    {
     "name": "stdin",
     "output_type": "stream",
     "text": [
      " a3\n"
     ]
    },
    {
     "name": "stdout",
     "output_type": "stream",
     "text": [
      "Move invalid. Please Try again.\n"
     ]
    },
    {
     "name": "stdin",
     "output_type": "stream",
     "text": [
      " a4\n"
     ]
    },
    {
     "name": "stdout",
     "output_type": "stream",
     "text": [
      "Move invalid. Please Try again.\n"
     ]
    },
    {
     "name": "stdin",
     "output_type": "stream",
     "text": [
      " c4\n"
     ]
    },
    {
     "name": "stdout",
     "output_type": "stream",
     "text": [
      "Move invalid. Please Try again.\n"
     ]
    },
    {
     "name": "stdin",
     "output_type": "stream",
     "text": [
      " c3\n"
     ]
    },
    {
     "name": "stdout",
     "output_type": "stream",
     "text": [
      "Move invalid. Please Try again.\n"
     ]
    },
    {
     "name": "stdin",
     "output_type": "stream",
     "text": [
      " c2\n"
     ]
    }
   ],
   "source": [
    "promptPlayer(testboard4, 1)"
   ]
  },
  {
   "cell_type": "markdown",
   "metadata": {},
   "source": [
    "*Exercise 9:* Use all of the previous exercises to implement a full tic-tac-toe game, where an appropriate board is drawn, 2 players are repeatedly asked for a location coordinates of where they wish to place a mark, and the game status is checked until a player wins or a draw occurs."
   ]
  },
  {
   "cell_type": "code",
   "execution_count": 1292,
   "metadata": {},
   "outputs": [],
   "source": [
    "def game():\n",
    "    size = int(input(\"Board Size:\"))\n",
    "    board = []\n",
    "    player = 2\n",
    "    for i in range(0, size):\n",
    "        board.append([])\n",
    "        for j in range(0,size): \n",
    "            board[i].append(0)\n",
    "    \n",
    "    while check_board(board) == -1:\n",
    "        if player == 1: player = 2\n",
    "        else: player = 1\n",
    "            \n",
    "        draw_filled_board_with_labels(board)    \n",
    "    \n",
    "        print(\"\\nPlayer\", player, \"move:\", end = \"\")\n",
    "        promptPlayer(board, player)\n",
    "    \n",
    "    \n",
    "    \n",
    "    if check_board(board) == 0: print(\"Game was a draw!\")\n",
    "    else: print(\"Player\", player, \"won!\")\n",
    "    draw_filled_board_with_labels(board)    "
   ]
  },
  {
   "cell_type": "code",
   "execution_count": 1308,
   "metadata": {},
   "outputs": [
    {
     "name": "stdin",
     "output_type": "stream",
     "text": [
      "Board Size: 3\n"
     ]
    },
    {
     "name": "stdout",
     "output_type": "stream",
     "text": [
      "     1   2   3   \n",
      "    --- --- --- \n",
      " A |   |   |   |\n",
      "    --- --- --- \n",
      " B |   |   |   |\n",
      "    --- --- --- \n",
      " C |   |   |   |\n",
      "    --- --- --- \n",
      "Player 1 move:"
     ]
    },
    {
     "name": "stdin",
     "output_type": "stream",
     "text": [
      " a3\n"
     ]
    },
    {
     "name": "stdout",
     "output_type": "stream",
     "text": [
      "     1   2   3   \n",
      "    --- --- --- \n",
      " A |   |   | X |\n",
      "    --- --- --- \n",
      " B |   |   |   |\n",
      "    --- --- --- \n",
      " C |   |   |   |\n",
      "    --- --- --- \n",
      "Player 2 move:"
     ]
    },
    {
     "name": "stdin",
     "output_type": "stream",
     "text": [
      " a2\n"
     ]
    },
    {
     "name": "stdout",
     "output_type": "stream",
     "text": [
      "     1   2   3   \n",
      "    --- --- --- \n",
      " A |   | O | X |\n",
      "    --- --- --- \n",
      " B |   |   |   |\n",
      "    --- --- --- \n",
      " C |   |   |   |\n",
      "    --- --- --- \n",
      "Player 1 move:"
     ]
    },
    {
     "name": "stdin",
     "output_type": "stream",
     "text": [
      " b2\n"
     ]
    },
    {
     "name": "stdout",
     "output_type": "stream",
     "text": [
      "     1   2   3   \n",
      "    --- --- --- \n",
      " A |   | O | X |\n",
      "    --- --- --- \n",
      " B |   | X |   |\n",
      "    --- --- --- \n",
      " C |   |   |   |\n",
      "    --- --- --- \n",
      "Player 2 move:"
     ]
    },
    {
     "name": "stdin",
     "output_type": "stream",
     "text": [
      " b1\n"
     ]
    },
    {
     "name": "stdout",
     "output_type": "stream",
     "text": [
      "     1   2   3   \n",
      "    --- --- --- \n",
      " A |   | O | X |\n",
      "    --- --- --- \n",
      " B | O | X |   |\n",
      "    --- --- --- \n",
      " C |   |   |   |\n",
      "    --- --- --- \n",
      "Player 1 move:"
     ]
    },
    {
     "name": "stdin",
     "output_type": "stream",
     "text": [
      " c1\n"
     ]
    },
    {
     "name": "stdout",
     "output_type": "stream",
     "text": [
      "Player 1 won!\n",
      "     1   2   3   \n",
      "    --- --- --- \n",
      " A |   | O | X |\n",
      "    --- --- --- \n",
      " B | O | X |   |\n",
      "    --- --- --- \n",
      " C | X |   |   |\n",
      "    --- --- --- "
     ]
    }
   ],
   "source": [
    "game()"
   ]
  },
  {
   "cell_type": "markdown",
   "metadata": {},
   "source": [
    "*Exercise 10:* Test that your game works for 5x5 Tic Tac Toe.  "
   ]
  },
  {
   "cell_type": "code",
   "execution_count": 1310,
   "metadata": {},
   "outputs": [
    {
     "name": "stdin",
     "output_type": "stream",
     "text": [
      "Board Size: 5\n"
     ]
    },
    {
     "name": "stdout",
     "output_type": "stream",
     "text": [
      "     1   2   3   4   5   \n",
      "    --- --- --- --- --- \n",
      " A |   |   |   |   |   |\n",
      "    --- --- --- --- --- \n",
      " B |   |   |   |   |   |\n",
      "    --- --- --- --- --- \n",
      " C |   |   |   |   |   |\n",
      "    --- --- --- --- --- \n",
      " D |   |   |   |   |   |\n",
      "    --- --- --- --- --- \n",
      " E |   |   |   |   |   |\n",
      "    --- --- --- --- --- \n",
      "Player 1 move:"
     ]
    },
    {
     "name": "stdin",
     "output_type": "stream",
     "text": [
      " c3\n"
     ]
    },
    {
     "name": "stdout",
     "output_type": "stream",
     "text": [
      "     1   2   3   4   5   \n",
      "    --- --- --- --- --- \n",
      " A |   |   |   |   |   |\n",
      "    --- --- --- --- --- \n",
      " B |   |   |   |   |   |\n",
      "    --- --- --- --- --- \n",
      " C |   |   | X |   |   |\n",
      "    --- --- --- --- --- \n",
      " D |   |   |   |   |   |\n",
      "    --- --- --- --- --- \n",
      " E |   |   |   |   |   |\n",
      "    --- --- --- --- --- \n",
      "Player 2 move:"
     ]
    },
    {
     "name": "stdin",
     "output_type": "stream",
     "text": [
      " c2\n"
     ]
    },
    {
     "name": "stdout",
     "output_type": "stream",
     "text": [
      "     1   2   3   4   5   \n",
      "    --- --- --- --- --- \n",
      " A |   |   |   |   |   |\n",
      "    --- --- --- --- --- \n",
      " B |   |   |   |   |   |\n",
      "    --- --- --- --- --- \n",
      " C |   | O | X |   |   |\n",
      "    --- --- --- --- --- \n",
      " D |   |   |   |   |   |\n",
      "    --- --- --- --- --- \n",
      " E |   |   |   |   |   |\n",
      "    --- --- --- --- --- \n",
      "Player 1 move:"
     ]
    },
    {
     "name": "stdin",
     "output_type": "stream",
     "text": [
      " d4\n"
     ]
    },
    {
     "name": "stdout",
     "output_type": "stream",
     "text": [
      "     1   2   3   4   5   \n",
      "    --- --- --- --- --- \n",
      " A |   |   |   |   |   |\n",
      "    --- --- --- --- --- \n",
      " B |   |   |   |   |   |\n",
      "    --- --- --- --- --- \n",
      " C |   | O | X |   |   |\n",
      "    --- --- --- --- --- \n",
      " D |   |   |   | X |   |\n",
      "    --- --- --- --- --- \n",
      " E |   |   |   |   |   |\n",
      "    --- --- --- --- --- \n",
      "Player 2 move:"
     ]
    },
    {
     "name": "stdin",
     "output_type": "stream",
     "text": [
      " a2\n"
     ]
    },
    {
     "name": "stdout",
     "output_type": "stream",
     "text": [
      "     1   2   3   4   5   \n",
      "    --- --- --- --- --- \n",
      " A |   | O |   |   |   |\n",
      "    --- --- --- --- --- \n",
      " B |   |   |   |   |   |\n",
      "    --- --- --- --- --- \n",
      " C |   | O | X |   |   |\n",
      "    --- --- --- --- --- \n",
      " D |   |   |   | X |   |\n",
      "    --- --- --- --- --- \n",
      " E |   |   |   |   |   |\n",
      "    --- --- --- --- --- \n",
      "Player 1 move:"
     ]
    },
    {
     "name": "stdin",
     "output_type": "stream",
     "text": [
      " a1\n"
     ]
    },
    {
     "name": "stdout",
     "output_type": "stream",
     "text": [
      "     1   2   3   4   5   \n",
      "    --- --- --- --- --- \n",
      " A | X | O |   |   |   |\n",
      "    --- --- --- --- --- \n",
      " B |   |   |   |   |   |\n",
      "    --- --- --- --- --- \n",
      " C |   | O | X |   |   |\n",
      "    --- --- --- --- --- \n",
      " D |   |   |   | X |   |\n",
      "    --- --- --- --- --- \n",
      " E |   |   |   |   |   |\n",
      "    --- --- --- --- --- \n",
      "Player 2 move:"
     ]
    },
    {
     "name": "stdin",
     "output_type": "stream",
     "text": [
      " b4\n"
     ]
    },
    {
     "name": "stdout",
     "output_type": "stream",
     "text": [
      "     1   2   3   4   5   \n",
      "    --- --- --- --- --- \n",
      " A | X | O |   |   |   |\n",
      "    --- --- --- --- --- \n",
      " B |   |   |   | O |   |\n",
      "    --- --- --- --- --- \n",
      " C |   | O | X |   |   |\n",
      "    --- --- --- --- --- \n",
      " D |   |   |   | X |   |\n",
      "    --- --- --- --- --- \n",
      " E |   |   |   |   |   |\n",
      "    --- --- --- --- --- \n",
      "Player 1 move:"
     ]
    },
    {
     "name": "stdin",
     "output_type": "stream",
     "text": [
      " b2\n"
     ]
    },
    {
     "name": "stdout",
     "output_type": "stream",
     "text": [
      "     1   2   3   4   5   \n",
      "    --- --- --- --- --- \n",
      " A | X | O |   |   |   |\n",
      "    --- --- --- --- --- \n",
      " B |   | X |   | O |   |\n",
      "    --- --- --- --- --- \n",
      " C |   | O | X |   |   |\n",
      "    --- --- --- --- --- \n",
      " D |   |   |   | X |   |\n",
      "    --- --- --- --- --- \n",
      " E |   |   |   |   |   |\n",
      "    --- --- --- --- --- \n",
      "Player 2 move:"
     ]
    },
    {
     "name": "stdin",
     "output_type": "stream",
     "text": [
      " e5\n"
     ]
    },
    {
     "name": "stdout",
     "output_type": "stream",
     "text": [
      "     1   2   3   4   5   \n",
      "    --- --- --- --- --- \n",
      " A | X | O |   |   |   |\n",
      "    --- --- --- --- --- \n",
      " B |   | X |   | O |   |\n",
      "    --- --- --- --- --- \n",
      " C |   | O | X |   |   |\n",
      "    --- --- --- --- --- \n",
      " D |   |   |   | X |   |\n",
      "    --- --- --- --- --- \n",
      " E |   |   |   |   | O |\n",
      "    --- --- --- --- --- \n",
      "Player 1 move:"
     ]
    },
    {
     "name": "stdin",
     "output_type": "stream",
     "text": [
      " d5\n"
     ]
    },
    {
     "name": "stdout",
     "output_type": "stream",
     "text": [
      "     1   2   3   4   5   \n",
      "    --- --- --- --- --- \n",
      " A | X | O |   |   |   |\n",
      "    --- --- --- --- --- \n",
      " B |   | X |   | O |   |\n",
      "    --- --- --- --- --- \n",
      " C |   | O | X |   |   |\n",
      "    --- --- --- --- --- \n",
      " D |   |   |   | X | X |\n",
      "    --- --- --- --- --- \n",
      " E |   |   |   |   | O |\n",
      "    --- --- --- --- --- \n",
      "Player 2 move:"
     ]
    },
    {
     "name": "stdin",
     "output_type": "stream",
     "text": [
      " e4\n"
     ]
    },
    {
     "name": "stdout",
     "output_type": "stream",
     "text": [
      "     1   2   3   4   5   \n",
      "    --- --- --- --- --- \n",
      " A | X | O |   |   |   |\n",
      "    --- --- --- --- --- \n",
      " B |   | X |   | O |   |\n",
      "    --- --- --- --- --- \n",
      " C |   | O | X |   |   |\n",
      "    --- --- --- --- --- \n",
      " D |   |   |   | X | X |\n",
      "    --- --- --- --- --- \n",
      " E |   |   |   | O | O |\n",
      "    --- --- --- --- --- \n",
      "Player 1 move:"
     ]
    },
    {
     "name": "stdin",
     "output_type": "stream",
     "text": [
      " d3\n"
     ]
    },
    {
     "name": "stdout",
     "output_type": "stream",
     "text": [
      "     1   2   3   4   5   \n",
      "    --- --- --- --- --- \n",
      " A | X | O |   |   |   |\n",
      "    --- --- --- --- --- \n",
      " B |   | X |   | O |   |\n",
      "    --- --- --- --- --- \n",
      " C |   | O | X |   |   |\n",
      "    --- --- --- --- --- \n",
      " D |   |   | X | X | X |\n",
      "    --- --- --- --- --- \n",
      " E |   |   |   | O | O |\n",
      "    --- --- --- --- --- \n",
      "Player 2 move:"
     ]
    },
    {
     "name": "stdin",
     "output_type": "stream",
     "text": [
      " e3\n"
     ]
    },
    {
     "name": "stdout",
     "output_type": "stream",
     "text": [
      "     1   2   3   4   5   \n",
      "    --- --- --- --- --- \n",
      " A | X | O |   |   |   |\n",
      "    --- --- --- --- --- \n",
      " B |   | X |   | O |   |\n",
      "    --- --- --- --- --- \n",
      " C |   | O | X |   |   |\n",
      "    --- --- --- --- --- \n",
      " D |   |   | X | X | X |\n",
      "    --- --- --- --- --- \n",
      " E |   |   | O | O | O |\n",
      "    --- --- --- --- --- \n",
      "Player 1 move:"
     ]
    },
    {
     "name": "stdin",
     "output_type": "stream",
     "text": [
      " d2\n"
     ]
    },
    {
     "name": "stdout",
     "output_type": "stream",
     "text": [
      "     1   2   3   4   5   \n",
      "    --- --- --- --- --- \n",
      " A | X | O |   |   |   |\n",
      "    --- --- --- --- --- \n",
      " B |   | X |   | O |   |\n",
      "    --- --- --- --- --- \n",
      " C |   | O | X |   |   |\n",
      "    --- --- --- --- --- \n",
      " D |   | X | X | X | X |\n",
      "    --- --- --- --- --- \n",
      " E |   |   | O | O | O |\n",
      "    --- --- --- --- --- \n",
      "Player 2 move:"
     ]
    },
    {
     "name": "stdin",
     "output_type": "stream",
     "text": [
      " e2\n"
     ]
    },
    {
     "name": "stdout",
     "output_type": "stream",
     "text": [
      "     1   2   3   4   5   \n",
      "    --- --- --- --- --- \n",
      " A | X | O |   |   |   |\n",
      "    --- --- --- --- --- \n",
      " B |   | X |   | O |   |\n",
      "    --- --- --- --- --- \n",
      " C |   | O | X |   |   |\n",
      "    --- --- --- --- --- \n",
      " D |   | X | X | X | X |\n",
      "    --- --- --- --- --- \n",
      " E |   | O | O | O | O |\n",
      "    --- --- --- --- --- \n",
      "Player 1 move:"
     ]
    },
    {
     "name": "stdin",
     "output_type": "stream",
     "text": [
      " d1\n"
     ]
    },
    {
     "name": "stdout",
     "output_type": "stream",
     "text": [
      "Player 1 won!\n",
      "     1   2   3   4   5   \n",
      "    --- --- --- --- --- \n",
      " A | X | O |   |   |   |\n",
      "    --- --- --- --- --- \n",
      " B |   | X |   | O |   |\n",
      "    --- --- --- --- --- \n",
      " C |   | O | X |   |   |\n",
      "    --- --- --- --- --- \n",
      " D | X | X | X | X | X |\n",
      "    --- --- --- --- --- \n",
      " E |   | O | O | O | O |\n",
      "    --- --- --- --- --- "
     ]
    }
   ],
   "source": [
    "game()"
   ]
  },
  {
   "cell_type": "markdown",
   "metadata": {},
   "source": [
    "*Exercise 11:* (Advanced / Challenge) Develop a version of the game where one player is the computer. Note that you don't need to do an extensive seach for the best move. You can have the computer simply protect against loosing and otherwise try to win with straight or diagonal patterns."
   ]
  },
  {
   "cell_type": "markdown",
   "metadata": {},
   "source": [
    "# I have an intial version, where I used the functions from the lab, and a secondary version where I rewrote the game entirely to be closer to how I would have written it from scratch. Enjoy :)"
   ]
  },
  {
   "cell_type": "markdown",
   "metadata": {},
   "source": [
    "#\n",
    "# Initial Version, random AI:"
   ]
  },
  {
   "cell_type": "code",
   "execution_count": 1314,
   "metadata": {},
   "outputs": [
    {
     "name": "stdin",
     "output_type": "stream",
     "text": [
      "Board Size: 5\n"
     ]
    },
    {
     "name": "stdout",
     "output_type": "stream",
     "text": [
      "\n",
      "\n",
      "     1   2   3   4   5   \n",
      "    --- --- --- --- --- \n",
      " A |   |   |   |   |   |\n",
      "    --- --- --- --- --- \n",
      " B |   |   |   |   |   |\n",
      "    --- --- --- --- --- \n",
      " C |   |   |   |   |   |\n",
      "    --- --- --- --- --- \n",
      " D |   |   |   |   |   |\n",
      "    --- --- --- --- --- \n",
      " E |   |   |   |   |   |\n",
      "    --- --- --- --- --- \n",
      "Player 1 move:"
     ]
    },
    {
     "name": "stdin",
     "output_type": "stream",
     "text": [
      " a1\n"
     ]
    },
    {
     "name": "stdout",
     "output_type": "stream",
     "text": [
      "\n",
      "AI move:\n",
      "\n",
      "\n",
      "     1   2   3   4   5   \n",
      "    --- --- --- --- --- \n",
      " A | X |   | O |   |   |\n",
      "    --- --- --- --- --- \n",
      " B |   |   |   |   |   |\n",
      "    --- --- --- --- --- \n",
      " C |   |   |   |   |   |\n",
      "    --- --- --- --- --- \n",
      " D |   |   |   |   |   |\n",
      "    --- --- --- --- --- \n",
      " E |   |   |   |   |   |\n",
      "    --- --- --- --- --- \n",
      "Player 1 move:"
     ]
    },
    {
     "name": "stdin",
     "output_type": "stream",
     "text": [
      " b2\n"
     ]
    },
    {
     "name": "stdout",
     "output_type": "stream",
     "text": [
      "\n",
      "AI move:\n",
      "\n",
      "\n",
      "     1   2   3   4   5   \n",
      "    --- --- --- --- --- \n",
      " A | X |   | O |   |   |\n",
      "    --- --- --- --- --- \n",
      " B |   | X |   |   |   |\n",
      "    --- --- --- --- --- \n",
      " C |   |   |   |   |   |\n",
      "    --- --- --- --- --- \n",
      " D |   |   |   |   |   |\n",
      "    --- --- --- --- --- \n",
      " E |   |   |   | O |   |\n",
      "    --- --- --- --- --- \n",
      "Player 1 move:"
     ]
    },
    {
     "name": "stdin",
     "output_type": "stream",
     "text": [
      " c3\n"
     ]
    },
    {
     "name": "stdout",
     "output_type": "stream",
     "text": [
      "\n",
      "AI move:\n",
      "\n",
      "\n",
      "     1   2   3   4   5   \n",
      "    --- --- --- --- --- \n",
      " A | X |   | O |   |   |\n",
      "    --- --- --- --- --- \n",
      " B |   | X |   |   |   |\n",
      "    --- --- --- --- --- \n",
      " C | O |   | X |   |   |\n",
      "    --- --- --- --- --- \n",
      " D |   |   |   |   |   |\n",
      "    --- --- --- --- --- \n",
      " E |   |   |   | O |   |\n",
      "    --- --- --- --- --- \n",
      "Player 1 move:"
     ]
    },
    {
     "name": "stdin",
     "output_type": "stream",
     "text": [
      " d4\n"
     ]
    },
    {
     "name": "stdout",
     "output_type": "stream",
     "text": [
      "\n",
      "AI move:\n",
      "\n",
      "\n",
      "     1   2   3   4   5   \n",
      "    --- --- --- --- --- \n",
      " A | X |   | O |   |   |\n",
      "    --- --- --- --- --- \n",
      " B |   | X | O |   |   |\n",
      "    --- --- --- --- --- \n",
      " C | O |   | X |   |   |\n",
      "    --- --- --- --- --- \n",
      " D |   |   |   | X |   |\n",
      "    --- --- --- --- --- \n",
      " E |   |   |   | O |   |\n",
      "    --- --- --- --- --- \n",
      "Player 1 move:"
     ]
    },
    {
     "name": "stdin",
     "output_type": "stream",
     "text": [
      " e5\n"
     ]
    },
    {
     "name": "stdout",
     "output_type": "stream",
     "text": [
      "AI won!\n",
      "     1   2   3   4   5   \n",
      "    --- --- --- --- --- \n",
      " A | X |   | O |   |   |\n",
      "    --- --- --- --- --- \n",
      " B |   | X | O |   |   |\n",
      "    --- --- --- --- --- \n",
      " C | O |   | X |   |   |\n",
      "    --- --- --- --- --- \n",
      " D |   |   |   | X |   |\n",
      "    --- --- --- --- --- \n",
      " E |   |   |   | O | X |\n",
      "    --- --- --- --- --- "
     ]
    }
   ],
   "source": [
    "def random_space(board):\n",
    "    open_spaces = list_open_spaces(board)\n",
    "    iter = random.randint(0,len(open_spaces)-1)\n",
    "    return [open_spaces[iter][0], open_spaces[iter][1]]\n",
    "\n",
    "def list_open_spaces(board):\n",
    "    open_spaces = []\n",
    "    for row in range(len(board)):\n",
    "        for col in range(len(board)):\n",
    "            if board[row][col] == 0: open_spaces.append([row, col])\n",
    "    return open_spaces\n",
    "\n",
    "def ai_game():\n",
    "    size = int(input(\"Board Size:\"))\n",
    "    board = []\n",
    "    player = 2\n",
    "    for i in range(0, size):\n",
    "        board.append([])\n",
    "        for j in range(0,size): \n",
    "            board[i].append(0)\n",
    "    \n",
    "    while True:\n",
    "        print('\\n')\n",
    "        draw_filled_board_with_labels(board)    \n",
    "\n",
    "        print(\"\\nPlayer 1 move:\", end = \"\")\n",
    "        promptPlayer(board, 1)\n",
    "        if check_board(board) != -1: break\n",
    "\n",
    "        print(\"\\nAI move:\")\n",
    "        place_move(board, 2, random_space(board))\n",
    "        if check_board(board) != -1: break\n",
    "    \n",
    "    \n",
    "    if check_board(board) == 0: print(\"Game was a draw!\")\n",
    "    elif check_board(board) == 0: print(\"You won!\")\n",
    "    else: print(\"AI won!\")\n",
    "    draw_filled_board_with_labels(board) \n",
    "\n",
    "ai_game()"
   ]
  },
  {
   "cell_type": "markdown",
   "metadata": {
    "collapsed": true,
    "jupyter": {
     "outputs_hidden": true
    }
   },
   "source": [
    "# \n",
    "# Redesigned Version, more strategic AI:"
   ]
  },
  {
   "cell_type": "code",
   "execution_count": 1316,
   "metadata": {},
   "outputs": [],
   "source": [
    "import random\n",
    "\n",
    "# ~~ global variables ~~\n",
    "user = 1\n",
    "ai = 2\n",
    "\n",
    "def generate_empty_board(size):\n",
    "    board = []\n",
    "    for i in range(0,size):\n",
    "        board.append([])\n",
    "        for j in range(0,size): \n",
    "            board[i].append(0)\n",
    "    return board\n",
    "\n",
    "def display_board(board):\n",
    "    print(\"\\n    \", end = \"\")\n",
    "    for col in range(1, len(board)+1):\n",
    "        print(col, \"  \", end = \"\")\n",
    "        \n",
    "    print(\"\\n   \", end = \"\")\n",
    "    for cols in board:\n",
    "        print(\"--- \", end = \"\")\n",
    "    \n",
    "    for row in range(len(board)):\n",
    "        print()\n",
    "        print(chr(65+row), \"|\", end = \"\")\n",
    "        for value in board[row]:\n",
    "            if value == 0: letter = \" \"\n",
    "            elif value == 1: letter = \"X\"\n",
    "            else: letter = \"O\"\n",
    "            print(\"\", letter, \"|\", end = \"\")\n",
    "        print(\"\\n   \", end = \"\")\n",
    "        for cols in board:\n",
    "            print(\"--- \", end = \"\")\n",
    "\n",
    "def make_move(board, coordinates, player):\n",
    "    board[coordinates[0]][coordinates[1]] = player\n",
    "\n",
    "def prompt_user(board):\n",
    "    user_move = str(input(\"\\nYour move (type a location such as A1 or C4):\"))\n",
    "    while True:\n",
    "        row = ord(user_move[0].upper()) - 65\n",
    "        col = int(user_move[1:])-1\n",
    "\n",
    "        # if move valid\n",
    "        if (row >= 0) & (row < len(board)) & (col >= 0) & (col < len(board)):\n",
    "            if board[row][col] == 0: return [row, col]\n",
    "                \n",
    "        user_move = str(input(\"Input invalid! Please try again:\"))\n",
    "    \n",
    "\n",
    "def prompt_ai(board):\n",
    "    print(\"\\n\\n* Ai move *\")\n",
    "    picked = False\n",
    "    \n",
    "    lines = get_all_lines(board)\n",
    "    if check_close_win(lines) != -1: return check_close_win(lines)\n",
    "    if check_close_lose(lines) != -1: return check_close_lose(lines)\n",
    "\n",
    "    # random move\n",
    "    while True:\n",
    "        randRow = random.randint(0,len(board)-1)\n",
    "        randCol = random.randint(0,len(board)-1)\n",
    "\n",
    "        if board[randRow][randCol] == 0:\n",
    "            return [randRow, randCol]\n",
    "\n",
    "def check_close_win(lines): # check the board for if ai will win on next move\n",
    "    # check rows\n",
    "    for i in range(0, len(lines[0])):\n",
    "        if count(lines[i], ai) == len(lines[0])-1:\n",
    "            if 0 in lines[i]: return [i, lines[i].index(0)]\n",
    "\n",
    "    # check cols\n",
    "    for i in range(len(lines[0]), len(lines[0])*2):\n",
    "        if (count(lines[i], ai) == (len(lines[0]))-1):\n",
    "            if 0 in lines[i]: return [lines[i].index(0), i-len(lines[0])]\n",
    "    \n",
    "    # check diags\n",
    "    if (count(lines[-2], ai) == (len(lines[0]))-1):\n",
    "        if 0 in lines[-2]: return [lines[-2].index(0), lines[-2].index(0)]\n",
    "    if (count(lines[-1], ai) == (len(lines[0]))-1):\n",
    "        if 0 in lines[-1]: return [lines[-1].index(0), -1 - lines[-1].index(0)]\n",
    "\n",
    "    return -1\n",
    "\n",
    "def check_close_lose(lines): # check the board for if user will win on next move\n",
    "    # check rows\n",
    "    for i in range(0, len(lines[0])):\n",
    "        if (count(lines[i], user) == len(lines[0])-1):\n",
    "            if 0 in lines[i]: return [i, lines[i].index(0)]\n",
    "\n",
    "    # check cols\n",
    "    for i in range(len(lines[0]), len(lines[0])*2):\n",
    "        if (count(lines[i], user) == (len(lines[0]))-1):\n",
    "            if 0 in lines[i]: return [lines[i].index(0), i-len(lines[0])]\n",
    "    \n",
    "    # check diags\n",
    "    if (count(lines[-2], user) == (len(lines[0]))-1):\n",
    "        if 0 in lines[-2]: return [lines[-2].index(0), lines[-2].index(0)]\n",
    "    if (count(lines[-1], user) == (len(lines[0]))-1):\n",
    "        if 0 in lines[-1]: return [lines[-1].index(0), -1 - lines[-1].index(0)]\n",
    "\n",
    "    return -1\n",
    "        \n",
    "def check_board(lines):\n",
    "    game_complete = True\n",
    "    for line in lines:\n",
    "        if count(line, user) == len(line): return user\n",
    "        if count(line, ai) == len(line): return ai\n",
    "        if 0 in line: game_complete = False\n",
    "            \n",
    "    if game_complete: return 0 # draw\n",
    "    return -1  # game is not complete\n",
    "\n",
    "def count(list, value):\n",
    "    count = 0\n",
    "    for i in list:\n",
    "        if i == value: \n",
    "            count += 1\n",
    "    return count\n",
    "\n",
    "def get_all_lines(board):\n",
    "    lines = []\n",
    "\n",
    "    # rows\n",
    "    for row in board: lines.append(row)\n",
    "\n",
    "    # cols\n",
    "    for col in range(0, len(board)):\n",
    "        cols = []\n",
    "        for row in board:\n",
    "            cols.append(row[col])\n",
    "        lines.append(cols)\n",
    "\n",
    "    # diag 1\n",
    "    diag1 = []\n",
    "    for i in range(0, len(board)):\n",
    "        diag1.append(board[i][i])\n",
    "    lines.append(diag1)\n",
    "\n",
    "    #diag2\n",
    "    diag2 = []\n",
    "    for i in range(len(board)):\n",
    "        diag2.append(board[i][-1-i])\n",
    "    lines.append(diag2)\n",
    "\n",
    "    return lines\n",
    "        \n",
    "\n",
    "def one_player_game():\n",
    "    board = generate_empty_board(int(input(\"Board Size (at least 2 and at most 26):\")))\n",
    "    \n",
    "    while True:\n",
    "        display_board(board)\n",
    "        make_move(board, prompt_user(board), user)\n",
    "        if check_board(get_all_lines(board)) != -1: break\n",
    "\n",
    "        display_board(board)\n",
    "        make_move(board, prompt_ai(board), ai)\n",
    "        if check_board(get_all_lines(board)) != -1: break\n",
    "\n",
    "    display_board(board)\n",
    "    if check_board(get_all_lines(board)) == user: print(\"\\nYou won!\")\n",
    "    elif check_board(get_all_lines(board)) == ai: print(\"\\nAi won!\")\n",
    "    else: print(\"\\nIt was a draw!\")"
   ]
  },
  {
   "cell_type": "code",
   "execution_count": 1320,
   "metadata": {},
   "outputs": [
    {
     "name": "stdin",
     "output_type": "stream",
     "text": [
      "Board Size (at least 2 and at most 26): 5\n"
     ]
    },
    {
     "name": "stdout",
     "output_type": "stream",
     "text": [
      "\n",
      "    1   2   3   4   5   \n",
      "   --- --- --- --- --- \n",
      "A |   |   |   |   |   |\n",
      "   --- --- --- --- --- \n",
      "B |   |   |   |   |   |\n",
      "   --- --- --- --- --- \n",
      "C |   |   |   |   |   |\n",
      "   --- --- --- --- --- \n",
      "D |   |   |   |   |   |\n",
      "   --- --- --- --- --- \n",
      "E |   |   |   |   |   |\n",
      "   --- --- --- --- --- "
     ]
    },
    {
     "name": "stdin",
     "output_type": "stream",
     "text": [
      "\n",
      "Your move (type a location such as A1 or C4): c3\n"
     ]
    },
    {
     "name": "stdout",
     "output_type": "stream",
     "text": [
      "\n",
      "    1   2   3   4   5   \n",
      "   --- --- --- --- --- \n",
      "A |   |   |   |   |   |\n",
      "   --- --- --- --- --- \n",
      "B |   |   |   |   |   |\n",
      "   --- --- --- --- --- \n",
      "C |   |   | X |   |   |\n",
      "   --- --- --- --- --- \n",
      "D |   |   |   |   |   |\n",
      "   --- --- --- --- --- \n",
      "E |   |   |   |   |   |\n",
      "   --- --- --- --- --- \n",
      "\n",
      "* Ai move *\n",
      "\n",
      "    1   2   3   4   5   \n",
      "   --- --- --- --- --- \n",
      "A |   |   |   |   |   |\n",
      "   --- --- --- --- --- \n",
      "B |   |   |   |   |   |\n",
      "   --- --- --- --- --- \n",
      "C |   |   | X |   | O |\n",
      "   --- --- --- --- --- \n",
      "D |   |   |   |   |   |\n",
      "   --- --- --- --- --- \n",
      "E |   |   |   |   |   |\n",
      "   --- --- --- --- --- "
     ]
    },
    {
     "name": "stdin",
     "output_type": "stream",
     "text": [
      "\n",
      "Your move (type a location such as A1 or C4): a1\n"
     ]
    },
    {
     "name": "stdout",
     "output_type": "stream",
     "text": [
      "\n",
      "    1   2   3   4   5   \n",
      "   --- --- --- --- --- \n",
      "A | X |   |   |   |   |\n",
      "   --- --- --- --- --- \n",
      "B |   |   |   |   |   |\n",
      "   --- --- --- --- --- \n",
      "C |   |   | X |   | O |\n",
      "   --- --- --- --- --- \n",
      "D |   |   |   |   |   |\n",
      "   --- --- --- --- --- \n",
      "E |   |   |   |   |   |\n",
      "   --- --- --- --- --- \n",
      "\n",
      "* Ai move *\n",
      "\n",
      "    1   2   3   4   5   \n",
      "   --- --- --- --- --- \n",
      "A | X |   |   |   |   |\n",
      "   --- --- --- --- --- \n",
      "B |   |   |   |   |   |\n",
      "   --- --- --- --- --- \n",
      "C |   |   | X | O | O |\n",
      "   --- --- --- --- --- \n",
      "D |   |   |   |   |   |\n",
      "   --- --- --- --- --- \n",
      "E |   |   |   |   |   |\n",
      "   --- --- --- --- --- "
     ]
    },
    {
     "name": "stdin",
     "output_type": "stream",
     "text": [
      "\n",
      "Your move (type a location such as A1 or C4): e1\n"
     ]
    },
    {
     "name": "stdout",
     "output_type": "stream",
     "text": [
      "\n",
      "    1   2   3   4   5   \n",
      "   --- --- --- --- --- \n",
      "A | X |   |   |   |   |\n",
      "   --- --- --- --- --- \n",
      "B |   |   |   |   |   |\n",
      "   --- --- --- --- --- \n",
      "C |   |   | X | O | O |\n",
      "   --- --- --- --- --- \n",
      "D |   |   |   |   |   |\n",
      "   --- --- --- --- --- \n",
      "E | X |   |   |   |   |\n",
      "   --- --- --- --- --- \n",
      "\n",
      "* Ai move *\n",
      "\n",
      "    1   2   3   4   5   \n",
      "   --- --- --- --- --- \n",
      "A | X |   |   |   |   |\n",
      "   --- --- --- --- --- \n",
      "B |   |   |   |   |   |\n",
      "   --- --- --- --- --- \n",
      "C |   |   | X | O | O |\n",
      "   --- --- --- --- --- \n",
      "D |   |   | O |   |   |\n",
      "   --- --- --- --- --- \n",
      "E | X |   |   |   |   |\n",
      "   --- --- --- --- --- "
     ]
    },
    {
     "name": "stdin",
     "output_type": "stream",
     "text": [
      "\n",
      "Your move (type a location such as A1 or C4): e5\n"
     ]
    },
    {
     "name": "stdout",
     "output_type": "stream",
     "text": [
      "\n",
      "    1   2   3   4   5   \n",
      "   --- --- --- --- --- \n",
      "A | X |   |   |   |   |\n",
      "   --- --- --- --- --- \n",
      "B |   |   |   |   |   |\n",
      "   --- --- --- --- --- \n",
      "C |   |   | X | O | O |\n",
      "   --- --- --- --- --- \n",
      "D |   |   | O |   |   |\n",
      "   --- --- --- --- --- \n",
      "E | X |   |   |   | X |\n",
      "   --- --- --- --- --- \n",
      "\n",
      "* Ai move *\n",
      "\n",
      "    1   2   3   4   5   \n",
      "   --- --- --- --- --- \n",
      "A | X |   |   | O |   |\n",
      "   --- --- --- --- --- \n",
      "B |   |   |   |   |   |\n",
      "   --- --- --- --- --- \n",
      "C |   |   | X | O | O |\n",
      "   --- --- --- --- --- \n",
      "D |   |   | O |   |   |\n",
      "   --- --- --- --- --- \n",
      "E | X |   |   |   | X |\n",
      "   --- --- --- --- --- "
     ]
    },
    {
     "name": "stdin",
     "output_type": "stream",
     "text": [
      "\n",
      "Your move (type a location such as A1 or C4): c1\n"
     ]
    },
    {
     "name": "stdout",
     "output_type": "stream",
     "text": [
      "\n",
      "    1   2   3   4   5   \n",
      "   --- --- --- --- --- \n",
      "A | X |   |   | O |   |\n",
      "   --- --- --- --- --- \n",
      "B |   |   |   |   |   |\n",
      "   --- --- --- --- --- \n",
      "C | X |   | X | O | O |\n",
      "   --- --- --- --- --- \n",
      "D |   |   | O |   |   |\n",
      "   --- --- --- --- --- \n",
      "E | X |   |   |   | X |\n",
      "   --- --- --- --- --- \n",
      "\n",
      "* Ai move *\n",
      "\n",
      "    1   2   3   4   5   \n",
      "   --- --- --- --- --- \n",
      "A | X |   |   | O |   |\n",
      "   --- --- --- --- --- \n",
      "B |   |   | O |   |   |\n",
      "   --- --- --- --- --- \n",
      "C | X |   | X | O | O |\n",
      "   --- --- --- --- --- \n",
      "D |   |   | O |   |   |\n",
      "   --- --- --- --- --- \n",
      "E | X |   |   |   | X |\n",
      "   --- --- --- --- --- "
     ]
    },
    {
     "name": "stdin",
     "output_type": "stream",
     "text": [
      "\n",
      "Your move (type a location such as A1 or C4): e3\n"
     ]
    },
    {
     "name": "stdout",
     "output_type": "stream",
     "text": [
      "\n",
      "    1   2   3   4   5   \n",
      "   --- --- --- --- --- \n",
      "A | X |   |   | O |   |\n",
      "   --- --- --- --- --- \n",
      "B |   |   | O |   |   |\n",
      "   --- --- --- --- --- \n",
      "C | X |   | X | O | O |\n",
      "   --- --- --- --- --- \n",
      "D |   |   | O |   |   |\n",
      "   --- --- --- --- --- \n",
      "E | X |   | X |   | X |\n",
      "   --- --- --- --- --- \n",
      "\n",
      "* Ai move *\n",
      "\n",
      "    1   2   3   4   5   \n",
      "   --- --- --- --- --- \n",
      "A | X |   |   | O |   |\n",
      "   --- --- --- --- --- \n",
      "B |   |   | O |   |   |\n",
      "   --- --- --- --- --- \n",
      "C | X |   | X | O | O |\n",
      "   --- --- --- --- --- \n",
      "D |   | O | O |   |   |\n",
      "   --- --- --- --- --- \n",
      "E | X |   | X |   | X |\n",
      "   --- --- --- --- --- "
     ]
    },
    {
     "name": "stdin",
     "output_type": "stream",
     "text": [
      "\n",
      "Your move (type a location such as A1 or C4): d1\n"
     ]
    },
    {
     "name": "stdout",
     "output_type": "stream",
     "text": [
      "\n",
      "    1   2   3   4   5   \n",
      "   --- --- --- --- --- \n",
      "A | X |   |   | O |   |\n",
      "   --- --- --- --- --- \n",
      "B |   |   | O |   |   |\n",
      "   --- --- --- --- --- \n",
      "C | X |   | X | O | O |\n",
      "   --- --- --- --- --- \n",
      "D | X | O | O |   |   |\n",
      "   --- --- --- --- --- \n",
      "E | X |   | X |   | X |\n",
      "   --- --- --- --- --- \n",
      "\n",
      "* Ai move *\n",
      "\n",
      "    1   2   3   4   5   \n",
      "   --- --- --- --- --- \n",
      "A | X |   |   | O |   |\n",
      "   --- --- --- --- --- \n",
      "B | O |   | O |   |   |\n",
      "   --- --- --- --- --- \n",
      "C | X |   | X | O | O |\n",
      "   --- --- --- --- --- \n",
      "D | X | O | O |   |   |\n",
      "   --- --- --- --- --- \n",
      "E | X |   | X |   | X |\n",
      "   --- --- --- --- --- "
     ]
    },
    {
     "name": "stdin",
     "output_type": "stream",
     "text": [
      "\n",
      "Your move (type a location such as A1 or C4): b2\n"
     ]
    },
    {
     "name": "stdout",
     "output_type": "stream",
     "text": [
      "\n",
      "    1   2   3   4   5   \n",
      "   --- --- --- --- --- \n",
      "A | X |   |   | O |   |\n",
      "   --- --- --- --- --- \n",
      "B | O | X | O |   |   |\n",
      "   --- --- --- --- --- \n",
      "C | X |   | X | O | O |\n",
      "   --- --- --- --- --- \n",
      "D | X | O | O |   |   |\n",
      "   --- --- --- --- --- \n",
      "E | X |   | X |   | X |\n",
      "   --- --- --- --- --- \n",
      "\n",
      "* Ai move *\n",
      "\n",
      "    1   2   3   4   5   \n",
      "   --- --- --- --- --- \n",
      "A | X |   |   | O |   |\n",
      "   --- --- --- --- --- \n",
      "B | O | X | O |   |   |\n",
      "   --- --- --- --- --- \n",
      "C | X |   | X | O | O |\n",
      "   --- --- --- --- --- \n",
      "D | X | O | O | O |   |\n",
      "   --- --- --- --- --- \n",
      "E | X |   | X |   | X |\n",
      "   --- --- --- --- --- "
     ]
    },
    {
     "name": "stdin",
     "output_type": "stream",
     "text": [
      "\n",
      "Your move (type a location such as A1 or C4): e2\n"
     ]
    },
    {
     "name": "stdout",
     "output_type": "stream",
     "text": [
      "\n",
      "    1   2   3   4   5   \n",
      "   --- --- --- --- --- \n",
      "A | X |   |   | O |   |\n",
      "   --- --- --- --- --- \n",
      "B | O | X | O |   |   |\n",
      "   --- --- --- --- --- \n",
      "C | X |   | X | O | O |\n",
      "   --- --- --- --- --- \n",
      "D | X | O | O | O |   |\n",
      "   --- --- --- --- --- \n",
      "E | X | X | X |   | X |\n",
      "   --- --- --- --- --- \n",
      "\n",
      "* Ai move *\n",
      "\n",
      "    1   2   3   4   5   \n",
      "   --- --- --- --- --- \n",
      "A | X |   |   | O |   |\n",
      "   --- --- --- --- --- \n",
      "B | O | X | O |   |   |\n",
      "   --- --- --- --- --- \n",
      "C | X |   | X | O | O |\n",
      "   --- --- --- --- --- \n",
      "D | X | O | O | O |   |\n",
      "   --- --- --- --- --- \n",
      "E | X | X | X | O | X |\n",
      "   --- --- --- --- --- "
     ]
    },
    {
     "name": "stdin",
     "output_type": "stream",
     "text": [
      "\n",
      "Your move (type a location such as A1 or C4): b4\n"
     ]
    },
    {
     "name": "stdout",
     "output_type": "stream",
     "text": [
      "\n",
      "    1   2   3   4   5   \n",
      "   --- --- --- --- --- \n",
      "A | X |   |   | O |   |\n",
      "   --- --- --- --- --- \n",
      "B | O | X | O | X |   |\n",
      "   --- --- --- --- --- \n",
      "C | X |   | X | O | O |\n",
      "   --- --- --- --- --- \n",
      "D | X | O | O | O |   |\n",
      "   --- --- --- --- --- \n",
      "E | X | X | X | O | X |\n",
      "   --- --- --- --- --- \n",
      "\n",
      "* Ai move *\n",
      "\n",
      "    1   2   3   4   5   \n",
      "   --- --- --- --- --- \n",
      "A | X |   |   | O |   |\n",
      "   --- --- --- --- --- \n",
      "B | O | X | O | X | O |\n",
      "   --- --- --- --- --- \n",
      "C | X |   | X | O | O |\n",
      "   --- --- --- --- --- \n",
      "D | X | O | O | O |   |\n",
      "   --- --- --- --- --- \n",
      "E | X | X | X | O | X |\n",
      "   --- --- --- --- --- "
     ]
    },
    {
     "name": "stdin",
     "output_type": "stream",
     "text": [
      "\n",
      "Your move (type a location such as A1 or C4): c2\n"
     ]
    },
    {
     "name": "stdout",
     "output_type": "stream",
     "text": [
      "\n",
      "    1   2   3   4   5   \n",
      "   --- --- --- --- --- \n",
      "A | X |   |   | O |   |\n",
      "   --- --- --- --- --- \n",
      "B | O | X | O | X | O |\n",
      "   --- --- --- --- --- \n",
      "C | X | X | X | O | O |\n",
      "   --- --- --- --- --- \n",
      "D | X | O | O | O |   |\n",
      "   --- --- --- --- --- \n",
      "E | X | X | X | O | X |\n",
      "   --- --- --- --- --- \n",
      "\n",
      "* Ai move *\n",
      "\n",
      "    1   2   3   4   5   \n",
      "   --- --- --- --- --- \n",
      "A | X | O |   | O |   |\n",
      "   --- --- --- --- --- \n",
      "B | O | X | O | X | O |\n",
      "   --- --- --- --- --- \n",
      "C | X | X | X | O | O |\n",
      "   --- --- --- --- --- \n",
      "D | X | O | O | O |   |\n",
      "   --- --- --- --- --- \n",
      "E | X | X | X | O | X |\n",
      "   --- --- --- --- --- "
     ]
    },
    {
     "name": "stdin",
     "output_type": "stream",
     "text": [
      "\n",
      "Your move (type a location such as A1 or C4): d5\n"
     ]
    },
    {
     "name": "stdout",
     "output_type": "stream",
     "text": [
      "\n",
      "    1   2   3   4   5   \n",
      "   --- --- --- --- --- \n",
      "A | X | O |   | O |   |\n",
      "   --- --- --- --- --- \n",
      "B | O | X | O | X | O |\n",
      "   --- --- --- --- --- \n",
      "C | X | X | X | O | O |\n",
      "   --- --- --- --- --- \n",
      "D | X | O | O | O | X |\n",
      "   --- --- --- --- --- \n",
      "E | X | X | X | O | X |\n",
      "   --- --- --- --- --- \n",
      "\n",
      "* Ai move *\n",
      "\n",
      "    1   2   3   4   5   \n",
      "   --- --- --- --- --- \n",
      "A | X | O |   | O | O |\n",
      "   --- --- --- --- --- \n",
      "B | O | X | O | X | O |\n",
      "   --- --- --- --- --- \n",
      "C | X | X | X | O | O |\n",
      "   --- --- --- --- --- \n",
      "D | X | O | O | O | X |\n",
      "   --- --- --- --- --- \n",
      "E | X | X | X | O | X |\n",
      "   --- --- --- --- --- "
     ]
    },
    {
     "name": "stdin",
     "output_type": "stream",
     "text": [
      "\n",
      "Your move (type a location such as A1 or C4): a3\n"
     ]
    },
    {
     "name": "stdout",
     "output_type": "stream",
     "text": [
      "\n",
      "    1   2   3   4   5   \n",
      "   --- --- --- --- --- \n",
      "A | X | O | X | O | O |\n",
      "   --- --- --- --- --- \n",
      "B | O | X | O | X | O |\n",
      "   --- --- --- --- --- \n",
      "C | X | X | X | O | O |\n",
      "   --- --- --- --- --- \n",
      "D | X | O | O | O | X |\n",
      "   --- --- --- --- --- \n",
      "E | X | X | X | O | X |\n",
      "   --- --- --- --- --- \n",
      "It was a draw!\n"
     ]
    }
   ],
   "source": [
    "one_player_game()"
   ]
  }
 ],
 "metadata": {
  "kernelspec": {
   "display_name": "Python 3 (ipykernel)",
   "language": "python",
   "name": "python3"
  },
  "language_info": {
   "codemirror_mode": {
    "name": "ipython",
    "version": 3
   },
   "file_extension": ".py",
   "mimetype": "text/x-python",
   "name": "python",
   "nbconvert_exporter": "python",
   "pygments_lexer": "ipython3",
   "version": "3.11.7"
  }
 },
 "nbformat": 4,
 "nbformat_minor": 4
}
